{
 "cells": [
  {
   "cell_type": "code",
   "execution_count": 1,
   "id": "869769a8",
   "metadata": {},
   "outputs": [],
   "source": [
    "\"\"\"\n",
    "    SSA generates a trajectory matrix X from the original series y\n",
    "    by sliding a window of length dim. The trajectory matrix is aproximated\n",
    "    using SVD. The last step reconstructs the series from the aproximated trajectory matrix.\n",
    "\"\"\"\n",
    "\n",
    "import scipy.linalg as linalg\n",
    "import scipy.stats as stats\n",
    "import numpy as np\n",
    "\n",
    "try:\n",
    "    from matplotlib import pyplot as plt\n",
    "    import pylab\n",
    "except:\n",
    "    print(\"Plotting functions will be disabled. Can't import matplotlib\")\n",
    "    pass\n",
    "\n",
    "\n",
    "def isscalar(x):\n",
    "    \"\"\"\n",
    "    Returns true if x is scalar value\n",
    "    :param x:\n",
    "    :return:\n",
    "    \"\"\"\n",
    "    return not isinstance(x, (list, tuple, dict, np.ndarray))\n",
    "\n",
    "\n",
    "def nans(dims):\n",
    "    \"\"\"\n",
    "    nans((M,N,P,...)) is an M-by-N-by-P-by-... array of NaNs.\n",
    "    :param dims: dimensions tuple\n",
    "    :return: nans matrix\n",
    "    \"\"\"\n",
    "    return np.nan * np.ones(dims)\n",
    "\n",
    "\n",
    "def ssa(y, dim) -> tuple:\n",
    "    \"\"\"\n",
    "    Singular Spectrum Analysis decomposition for a time series\n",
    "    Example:\n",
    "    -------\n",
    "    >>> import numpy as np\n",
    "    >>>\n",
    "    >>> x = np.linspace(0, 5, 1000)\n",
    "    >>> y = 2*x + 2*np.sin(5*x) + 0.5*np.random.randn(1000)\n",
    "    >>> pc, s, v = ssa(y, 15)\n",
    "    :param y: time series (array)\n",
    "    :param dim: the embedding dimension\n",
    "    :return: (pc, s, v) where\n",
    "             pc is the matrix with the principal components of y\n",
    "             s is the vector of the singular values of y given dim\n",
    "             v is the matrix of the singular vectors of y given dim\n",
    "    \"\"\"\n",
    "    n = len(y)\n",
    "    t = n - (dim - 1)\n",
    "\n",
    "    yy = linalg.hankel(y, np.zeros(dim))\n",
    "    yy = yy[:-dim + 1, :] / np.sqrt(t)\n",
    "\n",
    "    # here we use gesvd driver (as in Matlab)\n",
    "    _, s, v = linalg.svd(yy, full_matrices=False, lapack_driver='gesvd')\n",
    "\n",
    "    # find principal components\n",
    "    vt = np.matrix(v).T\n",
    "    pc = np.matrix(yy) * vt\n",
    "\n",
    "    return np.asarray(pc), s, np.asarray(vt)\n",
    "\n",
    "\n",
    "def inv_ssa(pc: np.ndarray, v: np.ndarray, k) -> np.ndarray:\n",
    "    \"\"\"\n",
    "    Series reconstruction for given SSA decomposition using vector of components\n",
    "    Example:\n",
    "    -------\n",
    "    >>> import numpy as np\n",
    "    >>> from matplotlib import pyplot as plt\n",
    "    >>> x = np.linspace(0, 5, 1000)\n",
    "    >>> y = 2*x + 2*np.sin(5*x) + 0.5*np.random.randn(1000)\n",
    "    >>> pc, s, v = ssa(y, 15)\n",
    "    >>>\n",
    "    >>> yr = inv_ssa(pc, v, [0,1])\n",
    "    >>> plt.plot(x, yr)\n",
    "    :param pc: matrix with the principal components from SSA\n",
    "    :param v: matrix of the singular vectors from SSA\n",
    "    :param k: vector with the indices of the components to be reconstructed\n",
    "    :return: the reconstructed time series\n",
    "    \"\"\"\n",
    "    if isscalar(k): k = [k]\n",
    "\n",
    "    if pc.ndim != 2:\n",
    "        raise ValueError('pc must be a 2-dimensional matrix')\n",
    "\n",
    "    if v.ndim != 2:\n",
    "        raise ValueError('v must be a 2-dimensional matrix')\n",
    "\n",
    "    t, dim = pc.shape\n",
    "    n_points = t + (dim - 1)\n",
    "\n",
    "    if any(filter(lambda x: dim < x or x < 0, k)):\n",
    "        raise ValueError('k must be vector of indexes from range 0..%d' % dim)\n",
    "\n",
    "    pc_comp = np.asarray(np.matrix(pc[:, k]) * np.matrix(v[:, k]).T)\n",
    "\n",
    "    xr = np.zeros(n_points)\n",
    "    times = np.zeros(n_points)\n",
    "\n",
    "    # reconstruction loop\n",
    "    for i in range(dim):\n",
    "        xr[i : t + i] = xr[i : t + i] + pc_comp[:, i]\n",
    "        times[i : t + i] = times[i : t + i] + 1\n",
    "\n",
    "    xr = (xr / times) * np.sqrt(t)\n",
    "    return xr\n",
    "\n",
    "\n",
    "def ssa_predict(x, dim, k, n_forecast, e=None, max_iter=10000) -> np.ndarray:\n",
    "    \"\"\"\n",
    "    Series data prediction based on SSA\n",
    "    Example:\n",
    "    >>> x = np.linspace(0,5,1000)\n",
    "    >>> y = 2*x + 2*np.sin(5*x) + 0.5*np.random.randn(1000)\n",
    "    >>>\n",
    "    >>> # make prediction for next 200 points\n",
    "    >>> ys = ssa_predict(y, 100, [0,1,2], 200, 0.01)\n",
    "    >>> \n",
    "    >>> # plot prediction\n",
    "    >>> plt.figure(figsize=(16,8));\n",
    "    >>> x0 = len(y); plt.plot(range(x0), y); plt.plot(range(x0, x0 + len(ys)), ys, 'r--')\n",
    "    >>> plt.legend(['Data', 'Forecast'])\n",
    "    :param x: series to be predicted\n",
    "    :param dim: the embedding dimension\n",
    "    :param k: components indexes for reconstruction\n",
    "    :param n_forecast: number of points to forecast\n",
    "    :param e: minimum value to ensure convergence\n",
    "    :param max_iter: maximum number of iterations\n",
    "    :return: forecasted series\n",
    "    \"\"\"\n",
    "    if not e:\n",
    "        e = 0.0001 * (np.max(x) - np.min(x))\n",
    "    mean_x = x.mean()\n",
    "    x = x - mean_x\n",
    "    xf = nans(n_forecast)\n",
    "\n",
    "    for i in range(n_forecast):\n",
    "        # here we use previous value as initial estimation\n",
    "        x = np.append(x, x[-1])\n",
    "        yq = x[-1]\n",
    "        y = yq + 2 * e\n",
    "        n_iter = max_iter\n",
    "        while abs(y - yq) > e:\n",
    "            yq = x[-1]\n",
    "\n",
    "            pc, _, v = ssa(x, dim)\n",
    "            xr = inv_ssa(pc, v, k)\n",
    "\n",
    "            y = xr[-1]\n",
    "            x[-1] = y\n",
    "            n_iter -= 1\n",
    "            if n_iter <= 0:\n",
    "                print('ssa_predict> number of iterations exceeded')\n",
    "                break\n",
    "\n",
    "        xf[i] = x[-1]\n",
    "    xf = xf + mean_x\n",
    "    return xf\n",
    "\n",
    "\n",
    "def ssa_cutoff_order(x: np.ndarray, dim=200, cutoff_pctl=75, show_plot=False):\n",
    "    \"\"\"\n",
    "    Tries to find best cutoff for number of order when increment changes of informational entropy\n",
    "    becomes little and the effective information saturates.\n",
    "    :param x: series\n",
    "    :param dim: embedding dimensions (200 by default)\n",
    "    :param cutoff_pctl: percentile of changes (75%)\n",
    "    :param show_plot: true if we need to see informational curve\n",
    "    :return: cutoff number\n",
    "    \"\"\"\n",
    "    _, s, _ = ssa(x, dim)\n",
    "    curve = -s/s.sum() * np.log(s/s.sum())\n",
    "    pctl = np.percentile(curve, cutoff_pctl)\n",
    "    n_cutoff = sum(curve > pctl)\n",
    "    \n",
    "    if show_plot:\n",
    "        plt.plot(curve)\n",
    "        plt.ylabel('Increment of Singular Entropy')\n",
    "        plt.xlabel('Number of Order')\n",
    "        plt.vlines(n_cutoff, 0, max(curve), 'g', linestyles='dotted')\n",
    "        plt.text(dim*0.6, max(curve)*0.9, 'Cutoff order: %d' % n_cutoff)\n",
    "        \n",
    "    return n_cutoff\n",
    "\n",
    "\n",
    "def ssaview(y, dim, k):\n",
    "    \"\"\"\n",
    "    Visualising tools for singular spectrum analysis\n",
    "    Example:\n",
    "    -------\n",
    "    >>> import numpy as np\n",
    "    >>>\n",
    "    >>> x = np.linspace(0, 5, 1000)\n",
    "    >>> y = 2*x + 2*np.sin(5*x) + 0.5*np.random.randn(1000)\n",
    "    >>> ssaview(y, 15, [0,1])\n",
    "    :param y: series\n",
    "    :param dim: the embedding dimension\n",
    "    :param k: components indexes for reconstrunction\n",
    "    \"\"\"\n",
    "    pc, s, v = ssa(y, dim)\n",
    "    yr = inv_ssa(pc, v, k)\n",
    "\n",
    "    plt.subplot2grid((3, 3), (0, 0), rowspan=2, colspan=2)\n",
    "    plt.title('Singular Spectrum View for %d window length' % dim)\n",
    "    plt.plot(y, color='#6ec0fa', lw=1.2)\n",
    "    plt.plot(yr, 'r', lw=1)\n",
    "    plt.ylabel('Series')\n",
    "    plt.legend(['Original', 'Reconstructed'])\n",
    "\n",
    "    # residuals chart\n",
    "    plt.subplot2grid((3, 3), (2, 0), colspan=2)\n",
    "    plt.plot(y - yr, 'g', lw=1)\n",
    "    plt.ylabel('Residual')\n",
    "    plt.legend(['Residual'])\n",
    "    plt.xlabel('Data points')\n",
    "\n",
    "    # resuduals qq-plot\n",
    "    plt.subplot2grid((3, 3), (0, 2), rowspan=2)\n",
    "    stats.probplot(y - yr, dist=\"norm\", plot=pylab)\n",
    "    plt.title('Residuals QQ plot')\n",
    "\n",
    "    # singular values\n",
    "    plt.subplot2grid((3, 3), (2, 2))\n",
    "    plt.title('Singular spectrum')\n",
    "    plt.plot(100 * s / s.sum(), 'g', marker='*', lw=1, alpha=0.6)\n",
    "    plt.xlabel('Eigenvalue number')\n",
    "    plt.ylabel('Eigenvalue')"
   ]
  },
  {
   "cell_type": "code",
   "execution_count": 2,
   "id": "a8838845",
   "metadata": {},
   "outputs": [],
   "source": [
    "    import speech_recognition as sr\n",
    "    from os import path\n",
    "    import os.path\n",
    "    import operator\n",
    "    from os import system\n",
    "    from os import listdir\n",
    "    from os.path import isfile, join\n",
    "    import wave\n",
    "    import scipy as sc\n",
    "    import librosa\n",
    "    import IPython.display as ipd\n",
    "    import numpy as np\n",
    "    from PIL import Image\n",
    "    import matplotlib.pyplot as plt\n",
    "    import matplotlib\n",
    "    import numpy as np\n",
    "    %matplotlib inline\n",
    "    import math\n",
    "    import librosa as lb\n",
    "    import scipy\n",
    "    from sklearn.decomposition import PCA\n",
    "    import pandas as pd\n",
    "    from os import listdir\n",
    "    from os.path import isfile, join\n",
    "    import time\n",
    "    from itertools import product\n",
    "    import datetime\n",
    "    import sys\n",
    "    import scipy.io.wavfile"
   ]
  },
  {
   "cell_type": "code",
   "execution_count": 3,
   "id": "ea990503",
   "metadata": {},
   "outputs": [
    {
     "name": "stdout",
     "output_type": "stream",
     "text": [
      "95734\n"
     ]
    }
   ],
   "source": [
    "fs, data = scipy.io.wavfile.read(\"/Users/sahajathota/Downloads/SEN1/PRO/MID/Code/Audio2.wav\")\n",
    "print(len(data))"
   ]
  },
  {
   "cell_type": "code",
   "execution_count": 4,
   "id": "c2ee4b2c",
   "metadata": {},
   "outputs": [
    {
     "name": "stdout",
     "output_type": "stream",
     "text": [
      "[3, 4]\n"
     ]
    }
   ],
   "source": [
    "h = [3, 4]\n",
    "print(h)"
   ]
  },
  {
   "cell_type": "code",
   "execution_count": 5,
   "id": "177e9b40",
   "metadata": {},
   "outputs": [],
   "source": [
    "#Squares both the phase signals and adds them together\n",
    "def getSignalSum(a, b):\n",
    "    x = (a**2) + (b**2)\n",
    "    return x"
   ]
  },
  {
   "cell_type": "code",
   "execution_count": 6,
   "id": "d7703290",
   "metadata": {},
   "outputs": [],
   "source": [
    "#Obtains the magnitude of the signalSums\n",
    "def getMagnitude(x):\n",
    "    ans = math.sqrt(x)\n",
    "    return ans"
   ]
  },
  {
   "cell_type": "code",
   "execution_count": 7,
   "id": "2b855ff7",
   "metadata": {},
   "outputs": [
    {
     "name": "stdout",
     "output_type": "stream",
     "text": [
      "This is the signal sum:  25\n",
      "25.0\n",
      "This is the magnitude of the signal:  5.0\n"
     ]
    }
   ],
   "source": [
    "print(\"This is the signal sum: \",getSignalSum(3,4))\n",
    "signalSum = getSignalSum(3,4)\n",
    "print(np.power(np.abs(3+4j), 2))\n",
    "print(\"This is the magnitude of the signal: \",getMagnitude(signalSum))\n",
    "magnitude = getMagnitude(signalSum)"
   ]
  },
  {
   "cell_type": "code",
   "execution_count": 8,
   "id": "d8ce59e7",
   "metadata": {},
   "outputs": [],
   "source": [
    "#Sets the upper bound on possible value that a signal can be\n",
    "def signalBound(y):\n",
    "    maxNum = np.sqrt(y)\n",
    "    return maxNum\n",
    "    "
   ]
  },
  {
   "cell_type": "code",
   "execution_count": 9,
   "id": "6230e6ab",
   "metadata": {
    "scrolled": true
   },
   "outputs": [
    {
     "name": "stdout",
     "output_type": "stream",
     "text": [
      "This is the highest value that a new\n",
      "signal number can be to have the same magnitude:\n",
      " 5.0\n"
     ]
    }
   ],
   "source": [
    "maxNum = signalBound(signalSum)\n",
    "print(\"This is the highest value that a new\\nsignal number can be to have the same magnitude:\\n\",maxNum)"
   ]
  },
  {
   "cell_type": "code",
   "execution_count": 10,
   "id": "dcb04571",
   "metadata": {},
   "outputs": [],
   "source": [
    "def sum_to_n(n, size, limit=None):\n",
    "    \"\"\"Produce all lists of `size` positive integers in decreasing order\n",
    "    that add up to `n`.\"\"\"\n",
    "    if size == 1:\n",
    "        yield [n]\n",
    "        #list.append([n])\n",
    "        return\n",
    "    if limit is None:\n",
    "        limit = n\n",
    "    start = (n + size - 1) // size\n",
    "    stop = min(limit, n - size + 1) + 1\n",
    "    for i in np.arange(start, stop):\n",
    "        for tail in sum_to_n(n - i, size - 1, i):\n",
    "            yield np.sqrt([i] + tail)\n",
    "            #list.append(np.sqrt([i] + tail))"
   ]
  },
  {
   "cell_type": "code",
   "execution_count": 11,
   "id": "5ce716bd",
   "metadata": {},
   "outputs": [],
   "source": [
    "#Create a new empty list to store the answers\n",
    "listAns = []\n",
    "result = []"
   ]
  },
  {
   "cell_type": "code",
   "execution_count": 12,
   "id": "ebc327d0",
   "metadata": {},
   "outputs": [],
   "source": [
    "for x in sum_to_n(np.power(np.abs(-2.42218600e+06+1.22079065e-12j)*.0001, 2), 2):\n",
    "    #add the result to a list\n",
    "    result.append(x)\n",
    "    #print(x)\n",
    "    break"
   ]
  },
  {
   "cell_type": "code",
   "execution_count": 13,
   "id": "4071c7ec",
   "metadata": {},
   "outputs": [
    {
     "name": "stdout",
     "output_type": "stream",
     "text": [
      "[array([171.27463326, 171.27419591])]\n",
      "<class 'list'>\n"
     ]
    }
   ],
   "source": [
    "print(result)\n",
    "print(type(result))"
   ]
  },
  {
   "cell_type": "code",
   "execution_count": 14,
   "id": "9db3caeb",
   "metadata": {},
   "outputs": [
    {
     "name": "stdout",
     "output_type": "stream",
     "text": [
      "[[171.27463326 171.27419591]]\n"
     ]
    }
   ],
   "source": [
    "data = np.asarray(result)\n",
    "print(data)\n"
   ]
  },
  {
   "cell_type": "code",
   "execution_count": 15,
   "id": "072e28dd",
   "metadata": {},
   "outputs": [
    {
     "name": "stdout",
     "output_type": "stream",
     "text": [
      "95734\n",
      "[3, 4]\n",
      "This is the signal sum:  25\n",
      "25.0\n",
      "This is the magnitude of the signal:  5.0\n",
      "This is the highest value that a new\n",
      "signal number can be to have the same magnitude:\n",
      " 5.0\n",
      "[array([171.27463326, 171.27419591])]\n",
      "<class 'list'>\n",
      "[[171.27463326 171.27419591]]\n"
     ]
    }
   ],
   "source": [
    "import speech_recognition as sr\n",
    "from os import path\n",
    "import os.path\n",
    "import operator\n",
    "from os import system\n",
    "from os import listdir\n",
    "from os.path import isfile, join\n",
    "import wave\n",
    "import scipy as sc\n",
    "import librosa\n",
    "import IPython.display as ipd\n",
    "import numpy as np\n",
    "from PIL import Image\n",
    "import matplotlib.pyplot as plt\n",
    "import matplotlib\n",
    "import numpy as np\n",
    "get_ipython().run_line_magic('matplotlib', 'inline')\n",
    "import math\n",
    "import librosa as lb\n",
    "import scipy\n",
    "from sklearn.decomposition import PCA\n",
    "import pandas as pd\n",
    "from os import listdir\n",
    "from os.path import isfile, join\n",
    "import time\n",
    "from itertools import product\n",
    "import datetime\n",
    "import sys\n",
    "\n",
    "\n",
    "\n",
    "fs, data = scipy.io.wavfile.read(\"/Users/sahajathota/Downloads/SEN1/PRO/MID/Code/Audio2.wav\")\n",
    "print(len(data))\n",
    "\n",
    "\n",
    "h = [3, 4]\n",
    "print(h)\n",
    "\n",
    "\n",
    "#Squares both the phase signals and adds them together\n",
    "def getSignalSum(a, b):\n",
    "    x = (a**2) + (b**2)\n",
    "    return x\n",
    "\n",
    "\n",
    "#Obtains the magnitude of the signalSums\n",
    "def getMagnitude(x):\n",
    "    ans = math.sqrt(x)\n",
    "    return ans\n",
    "\n",
    "\n",
    "\n",
    "print(\"This is the signal sum: \",getSignalSum(3,4))\n",
    "signalSum = getSignalSum(3,4)\n",
    "print(np.power(np.abs(3+4j), 2))\n",
    "print(\"This is the magnitude of the signal: \",getMagnitude(signalSum))\n",
    "magnitude = getMagnitude(signalSum)\n",
    "\n",
    "\n",
    "\n",
    "#Sets the upper bound on possible value that a signal can be\n",
    "def signalBound(y):\n",
    "    maxNum = np.sqrt(y)\n",
    "    return maxNum\n",
    "    \n",
    "\n",
    "maxNum = signalBound(signalSum)\n",
    "print(\"This is the highest value that a new\\nsignal number can be to have the same magnitude:\\n\",maxNum)\n",
    "\n",
    "\n",
    "\n",
    "def sum_to_n(n, size, limit=None):\n",
    "    \"\"\"Produce all lists of `size` positive integers in decreasing order\n",
    "    that add up to `n`.\"\"\"\n",
    "    if size == 1:\n",
    "        yield [n]\n",
    "        #list.append([n])\n",
    "        return\n",
    "    if limit is None:\n",
    "        limit = n\n",
    "    start = (n + size - 1) // size\n",
    "    stop = min(limit, n - size + 1) + 1\n",
    "    for i in np.arange(start, stop):\n",
    "        for tail in sum_to_n(n - i, size - 1, i):\n",
    "            yield np.sqrt([i] + tail)\n",
    "            #list.append(np.sqrt([i] + tail))\n",
    "\n",
    "\n",
    "\n",
    "#Create a new empty list to store the answers\n",
    "listAns = []\n",
    "result = []\n",
    "\n",
    "for x in sum_to_n(np.power(np.abs(-2.42218600e+06+1.22079065e-12j)*.0001, 2), 2):\n",
    "    #add the result to a list\n",
    "    result.append(x)\n",
    "    #print(x)\n",
    "    break\n",
    "\n",
    "\n",
    "print(result)\n",
    "print(type(result))\n",
    "\n",
    "\n",
    "data = np.asarray(result)\n",
    "print(data)\n",
    "\n",
    "\n",
    "\n",
    "\n",
    "\n",
    "\n",
    "\n"
   ]
  },
  {
   "cell_type": "code",
   "execution_count": 16,
   "id": "fc3c74d0",
   "metadata": {},
   "outputs": [],
   "source": [
    "import speech_recognition as sr\n",
    "from os import path\n",
    "import os.path\n",
    "import operator\n",
    "from os import system\n",
    "from os import listdir\n",
    "from os.path import isfile, join\n",
    "import wave\n",
    "import scipy as sc\n",
    "import librosa\n",
    "import IPython.display as ipd\n",
    "import numpy as np\n",
    "from PIL import Image\n",
    "import matplotlib.pyplot as plt\n",
    "import matplotlib\n",
    "import numpy as np\n",
    "%matplotlib inline\n",
    "import math\n",
    "import librosa as lb\n",
    "import scipy\n",
    "from sklearn.decomposition import PCA\n",
    "import pandas as pd\n",
    "from os import listdir\n",
    "from os.path import isfile, join\n",
    "import time\n",
    "from itertools import product\n",
    "import datetime\n",
    "import sys\n",
    "from scipy.fft import fft, fftfreq"
   ]
  },
  {
   "cell_type": "code",
   "execution_count": 17,
   "id": "4b15c385",
   "metadata": {},
   "outputs": [
    {
     "ename": "FileNotFoundError",
     "evalue": "[Errno 2] No such file or directory: '/Users/sahajathota/Downloads/SEN1/PRO/MID/Code/.wav'",
     "output_type": "error",
     "traceback": [
      "\u001b[0;31m---------------------------------------------------------------------------\u001b[0m",
      "\u001b[0;31mFileNotFoundError\u001b[0m                         Traceback (most recent call last)",
      "\u001b[0;32m/var/folders/vl/j602vz955mldvmk1st32crq00000gn/T/ipykernel_97911/3774115242.py\u001b[0m in \u001b[0;36m<module>\u001b[0;34m\u001b[0m\n\u001b[0;32m----> 1\u001b[0;31m \u001b[0mfs\u001b[0m\u001b[0;34m,\u001b[0m \u001b[0mdata\u001b[0m \u001b[0;34m=\u001b[0m \u001b[0mscipy\u001b[0m\u001b[0;34m.\u001b[0m\u001b[0mio\u001b[0m\u001b[0;34m.\u001b[0m\u001b[0mwavfile\u001b[0m\u001b[0;34m.\u001b[0m\u001b[0mread\u001b[0m\u001b[0;34m(\u001b[0m\u001b[0;34m\"/Users/sahajathota/Downloads/SEN1/PRO/MID/Code/.wav\"\u001b[0m\u001b[0;34m)\u001b[0m\u001b[0;34m\u001b[0m\u001b[0;34m\u001b[0m\u001b[0m\n\u001b[0m\u001b[1;32m      2\u001b[0m \u001b[0mlength\u001b[0m \u001b[0;34m=\u001b[0m \u001b[0mlen\u001b[0m\u001b[0;34m(\u001b[0m\u001b[0mdata\u001b[0m\u001b[0;34m)\u001b[0m\u001b[0;34m\u001b[0m\u001b[0;34m\u001b[0m\u001b[0m\n\u001b[1;32m      3\u001b[0m \u001b[0;34m\u001b[0m\u001b[0m\n\u001b[1;32m      4\u001b[0m \u001b[0mprint\u001b[0m\u001b[0;34m(\u001b[0m\u001b[0;34m\"This is the length of the data:\"\u001b[0m\u001b[0;34m,\u001b[0m \u001b[0mlen\u001b[0m\u001b[0;34m(\u001b[0m\u001b[0mdata\u001b[0m\u001b[0;34m)\u001b[0m\u001b[0;34m)\u001b[0m\u001b[0;34m\u001b[0m\u001b[0;34m\u001b[0m\u001b[0m\n\u001b[1;32m      5\u001b[0m \u001b[0mprint\u001b[0m\u001b[0;34m(\u001b[0m\u001b[0;34m\"This is the data printed\\n\"\u001b[0m\u001b[0;34m,\u001b[0m \u001b[0mdata\u001b[0m\u001b[0;34m[\u001b[0m\u001b[0;34m-\u001b[0m\u001b[0;36m100\u001b[0m\u001b[0;34m:\u001b[0m\u001b[0;34m]\u001b[0m\u001b[0;34m)\u001b[0m\u001b[0;34m\u001b[0m\u001b[0;34m\u001b[0m\u001b[0m\n",
      "\u001b[0;32m~/opt/anaconda3/lib/python3.9/site-packages/scipy/io/wavfile.py\u001b[0m in \u001b[0;36mread\u001b[0;34m(filename, mmap)\u001b[0m\n\u001b[1;32m    645\u001b[0m         \u001b[0mmmap\u001b[0m \u001b[0;34m=\u001b[0m \u001b[0;32mFalse\u001b[0m\u001b[0;34m\u001b[0m\u001b[0;34m\u001b[0m\u001b[0m\n\u001b[1;32m    646\u001b[0m     \u001b[0;32melse\u001b[0m\u001b[0;34m:\u001b[0m\u001b[0;34m\u001b[0m\u001b[0;34m\u001b[0m\u001b[0m\n\u001b[0;32m--> 647\u001b[0;31m         \u001b[0mfid\u001b[0m \u001b[0;34m=\u001b[0m \u001b[0mopen\u001b[0m\u001b[0;34m(\u001b[0m\u001b[0mfilename\u001b[0m\u001b[0;34m,\u001b[0m \u001b[0;34m'rb'\u001b[0m\u001b[0;34m)\u001b[0m\u001b[0;34m\u001b[0m\u001b[0;34m\u001b[0m\u001b[0m\n\u001b[0m\u001b[1;32m    648\u001b[0m \u001b[0;34m\u001b[0m\u001b[0m\n\u001b[1;32m    649\u001b[0m     \u001b[0;32mtry\u001b[0m\u001b[0;34m:\u001b[0m\u001b[0;34m\u001b[0m\u001b[0;34m\u001b[0m\u001b[0m\n",
      "\u001b[0;31mFileNotFoundError\u001b[0m: [Errno 2] No such file or directory: '/Users/sahajathota/Downloads/SEN1/PRO/MID/Code/.wav'"
     ]
    }
   ],
   "source": [
    "fs, data = scipy.io.wavfile.read(\"/Users/sahajathota/Downloads/SEN1/PRO/MID/Code/.wav\")\n",
    "length = len(data)\n",
    "\n",
    "print(\"This is the length of the data:\", len(data))\n",
    "print(\"This is the data printed\\n\", data[-100:])"
   ]
  },
  {
   "cell_type": "code",
   "execution_count": 18,
   "id": "f8a74c72",
   "metadata": {},
   "outputs": [
    {
     "name": "stdout",
     "output_type": "stream",
     "text": [
      "<class 'numpy.ndarray'>\n"
     ]
    }
   ],
   "source": [
    "print(type(data))"
   ]
  },
  {
   "cell_type": "code",
   "execution_count": 19,
   "id": "df37e02b",
   "metadata": {},
   "outputs": [
    {
     "name": "stdout",
     "output_type": "stream",
     "text": [
      "This is the last 20 numbers of the data:\n",
      "\n",
      " [[171.27463326 171.27419591]]\n"
     ]
    }
   ],
   "source": [
    "a = data\n",
    "print(\"This is the last 20 numbers of the data:\\n\\n\",a[-20:])"
   ]
  },
  {
   "cell_type": "code",
   "execution_count": 20,
   "id": "a24b23ee",
   "metadata": {
    "scrolled": true
   },
   "outputs": [
    {
     "name": "stdout",
     "output_type": "stream",
     "text": [
      "Creates a list of the complex numbers\n",
      " [[3.42548829e+02-0.j 4.37350904e-04-0.j]] \n",
      "\n"
     ]
    },
    {
     "name": "stderr",
     "output_type": "stream",
     "text": [
      "/Users/sahajathota/opt/anaconda3/lib/python3.9/site-packages/matplotlib/cbook/__init__.py:1298: ComplexWarning: Casting complex values to real discards the imaginary part\n",
      "  return np.asarray(x, float)\n"
     ]
    },
    {
     "ename": "NameError",
     "evalue": "name 'length' is not defined",
     "output_type": "error",
     "traceback": [
      "\u001b[0;31m---------------------------------------------------------------------------\u001b[0m",
      "\u001b[0;31mNameError\u001b[0m                                 Traceback (most recent call last)",
      "\u001b[0;32m/var/folders/vl/j602vz955mldvmk1st32crq00000gn/T/ipykernel_97911/2401755897.py\u001b[0m in \u001b[0;36m<module>\u001b[0;34m\u001b[0m\n\u001b[1;32m     10\u001b[0m \u001b[0;34m\u001b[0m\u001b[0m\n\u001b[1;32m     11\u001b[0m \u001b[0;31m#Gets half of the spectrum, using ceil to obtain the middle value in case of an odd length\u001b[0m\u001b[0;34m\u001b[0m\u001b[0;34m\u001b[0m\u001b[0m\n\u001b[0;32m---> 12\u001b[0;31m \u001b[0mc\u001b[0m\u001b[0;34m=\u001b[0m \u001b[0mb\u001b[0m\u001b[0;34m[\u001b[0m\u001b[0;36m0\u001b[0m\u001b[0;34m:\u001b[0m\u001b[0mint\u001b[0m\u001b[0;34m(\u001b[0m\u001b[0mnp\u001b[0m\u001b[0;34m.\u001b[0m\u001b[0mceil\u001b[0m\u001b[0;34m(\u001b[0m\u001b[0;34m(\u001b[0m\u001b[0mlength\u001b[0m\u001b[0;34m+\u001b[0m\u001b[0;36m1\u001b[0m\u001b[0;34m)\u001b[0m\u001b[0;34m/\u001b[0m\u001b[0;36m2.0\u001b[0m\u001b[0;34m)\u001b[0m\u001b[0;34m)\u001b[0m\u001b[0;34m]\u001b[0m\u001b[0;34m\u001b[0m\u001b[0;34m\u001b[0m\u001b[0m\n\u001b[0m\u001b[1;32m     13\u001b[0m \u001b[0mprint\u001b[0m\u001b[0;34m(\u001b[0m\u001b[0;34m\"\\nThis is half of the spectrum\\n\"\u001b[0m\u001b[0;34m,\u001b[0m \u001b[0mc\u001b[0m\u001b[0;34m[\u001b[0m\u001b[0;34m:\u001b[0m\u001b[0;36m15\u001b[0m\u001b[0;34m]\u001b[0m\u001b[0;34m)\u001b[0m\u001b[0;34m\u001b[0m\u001b[0;34m\u001b[0m\u001b[0m\n\u001b[1;32m     14\u001b[0m \u001b[0;31m#print(\"\\n\",\"Validates this is only half of the length:\" ,len(b), \", \", len(c))\u001b[0m\u001b[0;34m\u001b[0m\u001b[0;34m\u001b[0m\u001b[0m\n",
      "\u001b[0;31mNameError\u001b[0m: name 'length' is not defined"
     ]
    },
    {
     "data": {
      "image/png": "[encoded data removed]",
      "text/plain": [
       "<Figure size 640x480 with 1 Axes>"
      ]
     },
     "metadata": {},
     "output_type": "display_data"
    }
   ],
   "source": [
    "#fast fourrier transform\n",
    "#This is the FFT of the data\n",
    "from scipy.fft import fft, fftfreq\n",
    "b = sc.fft.fft(a)\n",
    "plt.plot(b)\n",
    "plt.savefig(\"figure.png\") # save as png\n",
    "\n",
    "print(\"Creates a list of the complex numbers\\n\",b[:15],\"\\n\")\n",
    "\n",
    "\n",
    "#Gets half of the spectrum, using ceil to obtain the middle value in case of an odd length\n",
    "c= b[0:int(np.ceil((length+1)/2.0))] \n",
    "print(\"\\nThis is half of the spectrum\\n\", c[:15])\n",
    "#print(\"\\n\",\"Validates this is only half of the length:\" ,len(b), \", \", len(c))"
   ]
  },
  {
   "cell_type": "code",
   "execution_count": 21,
   "id": "0ddca0e5",
   "metadata": {},
   "outputs": [
    {
     "ename": "NameError",
     "evalue": "name 'c' is not defined",
     "output_type": "error",
     "traceback": [
      "\u001b[0;31m---------------------------------------------------------------------------\u001b[0m",
      "\u001b[0;31mNameError\u001b[0m                                 Traceback (most recent call last)",
      "\u001b[0;32m/var/folders/vl/j602vz955mldvmk1st32crq00000gn/T/ipykernel_97911/2541198030.py\u001b[0m in \u001b[0;36m<module>\u001b[0;34m\u001b[0m\n\u001b[1;32m      1\u001b[0m \u001b[0;31m#take the magnitude of the FFT\u001b[0m\u001b[0;34m\u001b[0m\u001b[0;34m\u001b[0m\u001b[0m\n\u001b[0;32m----> 2\u001b[0;31m \u001b[0mmagFreq\u001b[0m \u001b[0;34m=\u001b[0m \u001b[0mnp\u001b[0m\u001b[0;34m.\u001b[0m\u001b[0mabsolute\u001b[0m\u001b[0;34m(\u001b[0m\u001b[0mc\u001b[0m\u001b[0;34m)\u001b[0m\u001b[0;34m\u001b[0m\u001b[0;34m\u001b[0m\u001b[0m\n\u001b[0m\u001b[1;32m      3\u001b[0m \u001b[0mprint\u001b[0m\u001b[0;34m(\u001b[0m\u001b[0mmagFreq\u001b[0m\u001b[0;34m[\u001b[0m\u001b[0;34m:\u001b[0m\u001b[0;36m15\u001b[0m\u001b[0;34m]\u001b[0m\u001b[0;34m)\u001b[0m\u001b[0;34m\u001b[0m\u001b[0;34m\u001b[0m\u001b[0m\n\u001b[1;32m      4\u001b[0m \u001b[0;34m\u001b[0m\u001b[0m\n\u001b[1;32m      5\u001b[0m \u001b[0mmagFreq2\u001b[0m \u001b[0;34m=\u001b[0m \u001b[0mmagFreq\u001b[0m\u001b[0;34m\u001b[0m\u001b[0;34m\u001b[0m\u001b[0m\n",
      "\u001b[0;31mNameError\u001b[0m: name 'c' is not defined"
     ]
    }
   ],
   "source": [
    "#take the magnitude of the FFT\n",
    "magFreq = np.absolute(c)\n",
    "print(magFreq[:15])\n",
    "\n",
    "magFreq2 = magFreq"
   ]
  },
  {
   "cell_type": "code",
   "execution_count": 22,
   "id": "b8993ac7",
   "metadata": {},
   "outputs": [
    {
     "ename": "NameError",
     "evalue": "name 'magFreq' is not defined",
     "output_type": "error",
     "traceback": [
      "\u001b[0;31m---------------------------------------------------------------------------\u001b[0m",
      "\u001b[0;31mNameError\u001b[0m                                 Traceback (most recent call last)",
      "\u001b[0;32m/var/folders/vl/j602vz955mldvmk1st32crq00000gn/T/ipykernel_97911/2847420409.py\u001b[0m in \u001b[0;36m<module>\u001b[0;34m\u001b[0m\n\u001b[0;32m----> 1\u001b[0;31m \u001b[0mplt\u001b[0m\u001b[0;34m.\u001b[0m\u001b[0mplot\u001b[0m\u001b[0;34m(\u001b[0m\u001b[0mmagFreq\u001b[0m\u001b[0;34m,\u001b[0m \u001b[0;34m'r'\u001b[0m\u001b[0;34m)\u001b[0m\u001b[0;34m\u001b[0m\u001b[0;34m\u001b[0m\u001b[0m\n\u001b[0m\u001b[1;32m      2\u001b[0m \u001b[0mplt\u001b[0m\u001b[0;34m.\u001b[0m\u001b[0mshow\u001b[0m\u001b[0;34m(\u001b[0m\u001b[0;34m)\u001b[0m\u001b[0;34m\u001b[0m\u001b[0;34m\u001b[0m\u001b[0m\n\u001b[1;32m      3\u001b[0m \u001b[0mplt\u001b[0m\u001b[0;34m.\u001b[0m\u001b[0msavefig\u001b[0m\u001b[0;34m(\u001b[0m\u001b[0;34m\"figure.png\"\u001b[0m\u001b[0;34m)\u001b[0m \u001b[0;31m# save as png\u001b[0m\u001b[0;34m\u001b[0m\u001b[0;34m\u001b[0m\u001b[0m\n",
      "\u001b[0;31mNameError\u001b[0m: name 'magFreq' is not defined"
     ]
    }
   ],
   "source": [
    "plt.plot(magFreq, 'r')\n",
    "plt.show()\n",
    "plt.savefig(\"figure.png\") # save as png\n"
   ]
  },
  {
   "cell_type": "code",
   "execution_count": 23,
   "id": "948510b6",
   "metadata": {},
   "outputs": [
    {
     "ename": "NameError",
     "evalue": "name 'magFreq2' is not defined",
     "output_type": "error",
     "traceback": [
      "\u001b[0;31m---------------------------------------------------------------------------\u001b[0m",
      "\u001b[0;31mNameError\u001b[0m                                 Traceback (most recent call last)",
      "\u001b[0;32m/var/folders/vl/j602vz955mldvmk1st32crq00000gn/T/ipykernel_97911/2041579953.py\u001b[0m in \u001b[0;36m<module>\u001b[0;34m\u001b[0m\n\u001b[0;32m----> 1\u001b[0;31m \u001b[0mmagFreq2\u001b[0m\u001b[0;34m[\u001b[0m\u001b[0;34m:\u001b[0m\u001b[0;36m10\u001b[0m\u001b[0;34m]\u001b[0m\u001b[0;34m\u001b[0m\u001b[0;34m\u001b[0m\u001b[0m\n\u001b[0m",
      "\u001b[0;31mNameError\u001b[0m: name 'magFreq2' is not defined"
     ]
    }
   ],
   "source": [
    "magFreq2[:10]"
   ]
  },
  {
   "cell_type": "code",
   "execution_count": 24,
   "id": "8f7fb7bf",
   "metadata": {},
   "outputs": [],
   "source": [
    "def transcribe(my_path,model):\n",
    "    wit_key = ''\n",
    "\n",
    "    AUDIO_FILE =  path.join(my_path)\n",
    "\n",
    "    # use the audio file as the audio source\n",
    "    r = sr.Recognizer()\n",
    "    with sr.AudioFile(my_path) as source:\n",
    "        audio = r.record(source)  # read the entire audio file\n",
    "\n",
    "    if(model == 'google'):\n",
    "        # Google\n",
    "        try:\n",
    "            return r.recognize_google(audio)\n",
    "        except sr.UnknownValueError:\n",
    "             print(\"Google: -_-\")\n",
    "            \n",
    "        except sr.RequestError as e:\n",
    "            print(\"Google error; {0}\".format(e))"
   ]
  },
  {
   "cell_type": "code",
   "execution_count": 25,
   "id": "0d009746",
   "metadata": {},
   "outputs": [
    {
     "ename": "ModuleNotFoundError",
     "evalue": "No module named 'transcribe'",
     "output_type": "error",
     "traceback": [
      "\u001b[0;31m---------------------------------------------------------------------------\u001b[0m",
      "\u001b[0;31mModuleNotFoundError\u001b[0m                       Traceback (most recent call last)",
      "\u001b[0;32m/var/folders/vl/j602vz955mldvmk1st32crq00000gn/T/ipykernel_97911/860415951.py\u001b[0m in \u001b[0;36m<module>\u001b[0;34m\u001b[0m\n\u001b[1;32m      1\u001b[0m \u001b[0;32mfrom\u001b[0m \u001b[0mscipy\u001b[0m\u001b[0;34m.\u001b[0m\u001b[0mio\u001b[0m\u001b[0;34m.\u001b[0m\u001b[0mwavfile\u001b[0m \u001b[0;32mimport\u001b[0m \u001b[0mwrite\u001b[0m\u001b[0;34m\u001b[0m\u001b[0;34m\u001b[0m\u001b[0m\n\u001b[1;32m      2\u001b[0m \u001b[0;32mimport\u001b[0m \u001b[0mnumpy\u001b[0m \u001b[0;32mas\u001b[0m \u001b[0mnp\u001b[0m\u001b[0;34m\u001b[0m\u001b[0;34m\u001b[0m\u001b[0m\n\u001b[0;32m----> 3\u001b[0;31m \u001b[0;32mfrom\u001b[0m \u001b[0mtranscribe\u001b[0m \u001b[0;32mimport\u001b[0m \u001b[0mtranscribe\u001b[0m\u001b[0;34m\u001b[0m\u001b[0;34m\u001b[0m\u001b[0m\n\u001b[0m\u001b[1;32m      4\u001b[0m \u001b[0;34m\u001b[0m\u001b[0m\n\u001b[1;32m      5\u001b[0m \u001b[0mfs\u001b[0m \u001b[0;34m=\u001b[0m \u001b[0;36m44100\u001b[0m  \u001b[0;31m# Sample rate\u001b[0m\u001b[0;34m\u001b[0m\u001b[0;34m\u001b[0m\u001b[0m\n",
      "\u001b[0;31mModuleNotFoundError\u001b[0m: No module named 'transcribe'"
     ]
    }
   ],
   "source": [
    "from scipy.io.wavfile import write\n",
    "import numpy as np\n",
    "from transcribe import transcribe\n",
    "\n",
    "fs = 44100  # Sample rate\n",
    "duration = 5  # Duration in seconds\n",
    "\n",
    "# Generate a sine wave of 440 Hz\n",
    "t = np.linspace(0, duration, int(fs * duration), endpoint=False)\n",
    "freq = 440\n",
    "sine_wave = 0.5 * np.sin(2 * np.pi * freq * t)\n",
    "\n",
    "# Convert the sine wave to a 16-bit integer array\n",
    "sine_wave_int = np.int16(sine_wave * 32767)\n",
    "\n",
    "# Write the sine wave to a WAV file\n",
    "write('/Users/sahajathota/Downloads/SEN1/PRO/MID/Code/helloAudio1.wav', fs, sine_wave_int)\n",
    "\n",
    "# Transcribe the WAV file using Google Speech Recognition API\n",
    "transcribe('/Users/sahajathota/Downloads/SEN1/PRO/MID/Code/helloAudio1.wav', 'google')\n"
   ]
  },
  {
   "cell_type": "code",
   "execution_count": 26,
   "id": "125a0384",
   "metadata": {},
   "outputs": [
    {
     "ename": "NameError",
     "evalue": "name 'magFreq2' is not defined",
     "output_type": "error",
     "traceback": [
      "\u001b[0;31m---------------------------------------------------------------------------\u001b[0m",
      "\u001b[0;31mNameError\u001b[0m                                 Traceback (most recent call last)",
      "\u001b[0;32m/var/folders/vl/j602vz955mldvmk1st32crq00000gn/T/ipykernel_97911/4208608005.py\u001b[0m in \u001b[0;36m<module>\u001b[0;34m\u001b[0m\n\u001b[0;32m----> 1\u001b[0;31m \u001b[0mscipy\u001b[0m\u001b[0;34m.\u001b[0m\u001b[0mio\u001b[0m\u001b[0;34m.\u001b[0m\u001b[0mwavfile\u001b[0m\u001b[0;34m.\u001b[0m\u001b[0mwrite\u001b[0m\u001b[0;34m(\u001b[0m\u001b[0;34m\"/Users/sahajathota/Downloads/SEN1/PRO/MID/Code/helloAudio1\"\u001b[0m\u001b[0;34m,\u001b[0m \u001b[0mfs\u001b[0m\u001b[0;34m,\u001b[0m \u001b[0mmagFreq2\u001b[0m\u001b[0;34m)\u001b[0m\u001b[0;34m\u001b[0m\u001b[0;34m\u001b[0m\u001b[0m\n\u001b[0m\u001b[1;32m      2\u001b[0m \u001b[0mtranscribe\u001b[0m\u001b[0;34m(\u001b[0m\u001b[0;34m\"/Users/sahajathota/Downloads/SEN1/PRO/MID/Code/helloAudio1\"\u001b[0m\u001b[0;34m,\u001b[0m \u001b[0;34m\"google\"\u001b[0m\u001b[0;34m)\u001b[0m\u001b[0;34m\u001b[0m\u001b[0;34m\u001b[0m\u001b[0m\n",
      "\u001b[0;31mNameError\u001b[0m: name 'magFreq2' is not defined"
     ]
    }
   ],
   "source": [
    "scipy.io.wavfile.write(\"/Users/sahajathota/Downloads/SEN1/PRO/MID/Code/helloAudio1\", fs, magFreq2)\n",
    "transcribe(\"/Users/sahajathota/Downloads/SEN1/PRO/MID/Code/helloAudio1\", \"google\")"
   ]
  },
  {
   "cell_type": "code",
   "execution_count": 27,
   "id": "489be0a3",
   "metadata": {},
   "outputs": [],
   "source": [
    "import speech_recognition as sr\n",
    "from os import path\n",
    "import os.path\n",
    "import operator\n",
    "from os import system\n",
    "from os import listdir\n",
    "from os.path import isfile, join\n",
    "import wave\n",
    "import scipy as sc\n",
    "import librosa\n",
    "import IPython.display as ipd\n",
    "import numpy as np\n",
    "from PIL import Image\n",
    "import matplotlib.pyplot as plt\n",
    "import matplotlib\n",
    "import numpy as np\n",
    "%matplotlib inline\n",
    "import math\n",
    "import librosa as lb\n",
    "import scipy\n",
    "from sklearn.decomposition import PCA\n",
    "import pandas as pd\n",
    "from os import listdir\n",
    "from os.path import isfile, join\n",
    "import time\n",
    "from itertools import product\n",
    "import datetime\n",
    "import sys"
   ]
  },
  {
   "cell_type": "code",
   "execution_count": 28,
   "id": "93ea1c30",
   "metadata": {},
   "outputs": [
    {
     "name": "stdout",
     "output_type": "stream",
     "text": [
      "This is the data printed\n",
      " [[-4 -1]\n",
      " [-4 -1]\n",
      " [-2 -2]\n",
      " [-1 -4]\n",
      " [-1 -4]\n",
      " [-1 -3]\n",
      " [-1 -2]\n",
      " [-2 -1]\n",
      " [-2 -1]\n",
      " [-2 -1]\n",
      " [-2 -1]\n",
      " [-3  0]\n",
      " [-4  0]\n",
      " [-3 -2]\n",
      " [-4 -3]\n",
      " [-2 -1]\n",
      " [ 1  0]\n",
      " [ 0 -2]\n",
      " [-1 -2]\n",
      " [-1 -2]\n",
      " [-2 -3]\n",
      " [-2 -2]\n",
      " [-2 -1]\n",
      " [-3 -3]\n",
      " [-1 -4]\n",
      " [ 0 -3]\n",
      " [ 0 -3]\n",
      " [-1 -4]\n",
      " [-2 -4]\n",
      " [-2 -3]\n",
      " [ 0 -2]\n",
      " [ 1 -2]\n",
      " [-1 -2]\n",
      " [-2 -3]\n",
      " [-1 -2]\n",
      " [-1 -2]\n",
      " [-2 -4]\n",
      " [-2 -3]\n",
      " [-1 -1]\n",
      " [-3  0]\n",
      " [-4  1]\n",
      " [-4  1]\n",
      " [-4 -1]\n",
      " [-2 -2]\n",
      " [-2 -2]\n",
      " [-3 -3]\n",
      " [-3 -4]\n",
      " [-4 -6]\n",
      " [-5 -7]\n",
      " [-5 -6]\n",
      " [-6 -5]\n",
      " [-7 -6]\n",
      " [-7 -6]\n",
      " [-6 -6]\n",
      " [-6 -5]\n",
      " [-6 -4]\n",
      " [-6 -5]\n",
      " [-6 -7]\n",
      " [-8 -7]\n",
      " [-8 -6]\n",
      " [-7 -5]\n",
      " [-7 -4]\n",
      " [-8 -4]\n",
      " [-8 -3]\n",
      " [-6 -2]\n",
      " [-4 -2]\n",
      " [-3 -2]\n",
      " [-1 -2]\n",
      " [ 0  0]\n",
      " [ 0  0]\n",
      " [ 0  0]\n",
      " [ 1  0]\n",
      " [ 0  0]\n",
      " [ 1  1]\n",
      " [ 1  1]\n",
      " [ 2  0]\n",
      " [ 4  1]\n",
      " [ 4  1]\n",
      " [ 3  1]\n",
      " [ 4  2]\n",
      " [ 6  3]\n",
      " [ 7  4]\n",
      " [ 5  3]\n",
      " [ 4  2]\n",
      " [ 4  2]\n",
      " [ 5  4]\n",
      " [ 5  3]\n",
      " [ 5  3]\n",
      " [ 5  4]\n",
      " [ 6  5]\n",
      " [ 7  6]\n",
      " [ 7  6]\n",
      " [ 7  6]\n",
      " [10  7]\n",
      " [11  8]\n",
      " [12 10]\n",
      " [12 12]\n",
      " [10 10]\n",
      " [11 11]\n",
      " [11 11]]\n"
     ]
    }
   ],
   "source": [
    "#Read in the amplitude of the audio file\n",
    "fs, data = scipy.io.wavfile.read(\"/Users/sahajathota/Downloads/SEN1/PRO/MID/Code/helloAudio1.wav\")\n",
    "length = len(data)\n",
    "print(\"This is the data printed\\n\", data[-100:])"
   ]
  },
  {
   "cell_type": "code",
   "execution_count": 29,
   "id": "dcf428b8",
   "metadata": {},
   "outputs": [],
   "source": [
    "a = data\n",
    "\n",
    "#Take the FFT of the time domain frequency \n",
    "b = sc.fft.fft(a)\n",
    "\n",
    "#Gets half of the spectrum, using ceil to obtain the middle value in case of an odd length\n",
    "#Only need half of it because real and imaginary data are symmertrial and data duplicates after half way\n",
    "c= b[0:int(np.ceil((length+1)/2.0))]\n",
    "\n",
    "#Store new length of the array\n",
    "lenFreq = len(c)\n",
    "\n",
    "#Take the magnitude of the FFT for original audio\n",
    "magFreq = np.absolute(c)"
   ]
  },
  {
   "cell_type": "code",
   "execution_count": 30,
   "id": "5f64e38e",
   "metadata": {},
   "outputs": [
    {
     "name": "stdout",
     "output_type": "stream",
     "text": [
      "This is magFreq:\n",
      " [[  2.   0.]\n",
      " [  2.   0.]\n",
      " [  2.   0.]\n",
      " ...\n",
      " [379.  13.]\n",
      " [143.   3.]\n",
      " [273.  11.]]\n",
      "\n",
      " [[   2.-0.j    0.-0.j]\n",
      " [   2.-0.j    0.-0.j]\n",
      " [   2.-0.j    0.-0.j]\n",
      " ...\n",
      " [-379.-0.j  -13.-0.j]\n",
      " [-143.-0.j   -3.-0.j]\n",
      " [ 273.-0.j   11.-0.j]]\n",
      "5.0\n",
      "[[ 2.-0.j  0.-0.j]\n",
      " [ 2.-0.j  0.-0.j]\n",
      " [ 2.-0.j  0.-0.j]\n",
      " [ 2.-0.j  0.-0.j]\n",
      " [ 4.-0.j  0.-0.j]\n",
      " [ 4.-0.j  0.-0.j]\n",
      " [ 4.-0.j  0.-0.j]\n",
      " [ 6.-0.j  0.-0.j]\n",
      " [ 6.-0.j  0.-0.j]\n",
      " [ 7.-0.j -1.-0.j]]\n"
     ]
    }
   ],
   "source": [
    "print(\"This is magFreq:\\n\", magFreq)\n",
    "print(\"\\n\", c)\n",
    "print(np.abs(4+3j))\n",
    "print(c[:10])"
   ]
  },
  {
   "cell_type": "code",
   "execution_count": null,
   "id": "f16f11be",
   "metadata": {},
   "outputs": [],
   "source": []
  },
  {
   "cell_type": "code",
   "execution_count": 31,
   "id": "0b62c018",
   "metadata": {},
   "outputs": [],
   "source": [
    "\"\"\"Produce all lists of `size` positive integers in decreasing order\n",
    "    that add up to `n`.\"\"\"\n",
    "def sum_to_n(n, size, limit=None):\n",
    "    if size == 1:\n",
    "        yield [n]\n",
    "        #list.append([n])\n",
    "        return\n",
    "    if limit is None:\n",
    "        limit = n\n",
    "    start = (n + size - 1) // size\n",
    "    stop = min(limit, n - size + 1) + 1\n",
    "    for i in np.arange(start, stop):\n",
    "        for tail in sum_to_n(n - i, size - 1, i):\n",
    "            yield (np.sqrt([i] + tail))\n",
    "            list.append(np.sqrt([i] + tail))"
   ]
  },
  {
   "cell_type": "code",
   "execution_count": 32,
   "id": "122f8dbf",
   "metadata": {},
   "outputs": [
    {
     "ename": "TypeError",
     "evalue": "only length-1 arrays can be converted to Python scalars",
     "output_type": "error",
     "traceback": [
      "\u001b[0;31m---------------------------------------------------------------------------\u001b[0m",
      "\u001b[0;31mTypeError\u001b[0m                                 Traceback (most recent call last)",
      "\u001b[0;32m/var/folders/vl/j602vz955mldvmk1st32crq00000gn/T/ipykernel_97911/4213713920.py\u001b[0m in \u001b[0;36m<module>\u001b[0;34m\u001b[0m\n\u001b[1;32m     23\u001b[0m     \u001b[0;31m#Stores the magnitude inside of the list\u001b[0m\u001b[0;34m\u001b[0m\u001b[0;34m\u001b[0m\u001b[0m\n\u001b[1;32m     24\u001b[0m     \u001b[0;31m#Uses the abs function to be able to compute the magnitude\u001b[0m\u001b[0;34m\u001b[0m\u001b[0;34m\u001b[0m\u001b[0m\n\u001b[0;32m---> 25\u001b[0;31m     \u001b[0mvalueToUseInSumN\u001b[0m \u001b[0;34m=\u001b[0m \u001b[0mnp\u001b[0m\u001b[0;34m.\u001b[0m\u001b[0mvectorize\u001b[0m\u001b[0;34m(\u001b[0m\u001b[0mcomplex\u001b[0m\u001b[0;34m(\u001b[0m\u001b[0mc\u001b[0m\u001b[0;34m[\u001b[0m\u001b[0mi\u001b[0m\u001b[0;34m]\u001b[0m\u001b[0;34m.\u001b[0m\u001b[0mimag\u001b[0m\u001b[0;34m*\u001b[0m\u001b[0;36m1j\u001b[0m \u001b[0;34m+\u001b[0m \u001b[0mc\u001b[0m\u001b[0;34m[\u001b[0m\u001b[0mi\u001b[0m\u001b[0;34m]\u001b[0m\u001b[0;34m.\u001b[0m\u001b[0mreal\u001b[0m\u001b[0;34m)\u001b[0m\u001b[0;34m)\u001b[0m\u001b[0;34m\u001b[0m\u001b[0;34m\u001b[0m\u001b[0m\n\u001b[0m\u001b[1;32m     26\u001b[0m     \u001b[0mmagFreq2\u001b[0m\u001b[0;34m.\u001b[0m\u001b[0mappend\u001b[0m\u001b[0;34m(\u001b[0m\u001b[0mnp\u001b[0m\u001b[0;34m.\u001b[0m\u001b[0mvectorize\u001b[0m\u001b[0;34m(\u001b[0m\u001b[0mvalueToUseInSumN\u001b[0m\u001b[0;34m,\u001b[0m \u001b[0;36m2\u001b[0m\u001b[0;34m)\u001b[0m\u001b[0;34m)\u001b[0m\u001b[0;34m\u001b[0m\u001b[0;34m\u001b[0m\u001b[0m\n\u001b[1;32m     27\u001b[0m \u001b[0;34m\u001b[0m\u001b[0m\n",
      "\u001b[0;31mTypeError\u001b[0m: only length-1 arrays can be converted to Python scalars"
     ]
    }
   ],
   "source": [
    "#Stores the original real and imaginary numbers in a list\n",
    "realNumbers = []\n",
    "imaginaryNumbers = []\n",
    "\n",
    "#Stores the magnitudes for the pertubated audio clip\n",
    "magFreq2 = []\n",
    "\n",
    "#Stores the modified real and imaginary numbers in a list\n",
    "realFinal = []\n",
    "imagFinal = []\n",
    "\n",
    "#Stores the results in the following lists \n",
    "resultsTemp = []\n",
    "finalResults = []\n",
    "\n",
    "for i in range(lenFreq-1):\n",
    "    #Stores the result inside of real numbers list\n",
    "    realNumbers.append(c[i].real)\n",
    "    \n",
    "    #Stores the numbers inside of imaginary numbers list\n",
    "    imaginaryNumbers.append(c[i].imag)\n",
    "    \n",
    "    #Stores the magnitude inside of the list\n",
    "    #Uses the abs function to be able to compute the magnitude\n",
    "    valueToUseInSumN = np.vectorize(complex(c[i].imag*1j + c[i].real))\n",
    "    magFreq2.append(np.vectorize(valueToUseInSumN, 2))\n",
    "    \n",
    "    for x in sum_to_n(magFreq2[i]*.0001, 2):\n",
    "        #add the result to a list\n",
    "        resultsTemp.append(x)\n",
    "        break\n",
    "    \n",
    "    finalResults.append(resultsTemp[0][0] + complex(resultsTemp[0][1])*1j)\n",
    "    \n",
    "    realFinal.append(finalResults[i].real * 100)\n",
    "    imagFinal.append(finalResults[i].imag* 1j* 100)\n",
    "    \n",
    "    resultsTemp.clear()"
   ]
  },
  {
   "cell_type": "code",
   "execution_count": 33,
   "id": "09edd3dc",
   "metadata": {},
   "outputs": [],
   "source": [
    "magFreq3 = []"
   ]
  },
  {
   "cell_type": "code",
   "execution_count": 34,
   "id": "1d1bb749",
   "metadata": {},
   "outputs": [],
   "source": [
    "results = []"
   ]
  },
  {
   "cell_type": "code",
   "execution_count": 35,
   "id": "fc3024f4",
   "metadata": {},
   "outputs": [
    {
     "ename": "IndexError",
     "evalue": "list index out of range",
     "output_type": "error",
     "traceback": [
      "\u001b[0;31m---------------------------------------------------------------------------\u001b[0m",
      "\u001b[0;31mIndexError\u001b[0m                                Traceback (most recent call last)",
      "\u001b[0;32m/var/folders/vl/j602vz955mldvmk1st32crq00000gn/T/ipykernel_97911/3054099451.py\u001b[0m in \u001b[0;36m<module>\u001b[0;34m\u001b[0m\n\u001b[0;32m----> 1\u001b[0;31m \u001b[0;32mfor\u001b[0m \u001b[0mx\u001b[0m \u001b[0;32min\u001b[0m \u001b[0msum_to_n\u001b[0m\u001b[0;34m(\u001b[0m\u001b[0mmagFreq2\u001b[0m\u001b[0;34m[\u001b[0m\u001b[0;36m1\u001b[0m\u001b[0;34m]\u001b[0m\u001b[0;34m,\u001b[0m \u001b[0;36m2\u001b[0m\u001b[0;34m)\u001b[0m\u001b[0;34m:\u001b[0m\u001b[0;34m\u001b[0m\u001b[0;34m\u001b[0m\u001b[0m\n\u001b[0m\u001b[1;32m      2\u001b[0m     \u001b[0;31m#add the result to a list\u001b[0m\u001b[0;34m\u001b[0m\u001b[0;34m\u001b[0m\u001b[0m\n\u001b[1;32m      3\u001b[0m     \u001b[0mresults\u001b[0m\u001b[0;34m.\u001b[0m\u001b[0mappend\u001b[0m\u001b[0;34m(\u001b[0m\u001b[0mx\u001b[0m\u001b[0;34m)\u001b[0m\u001b[0;34m\u001b[0m\u001b[0;34m\u001b[0m\u001b[0m\n\u001b[1;32m      4\u001b[0m     \u001b[0;31m#print(x)\u001b[0m\u001b[0;34m\u001b[0m\u001b[0;34m\u001b[0m\u001b[0m\n\u001b[1;32m      5\u001b[0m     \u001b[0;32mbreak\u001b[0m\u001b[0;34m\u001b[0m\u001b[0;34m\u001b[0m\u001b[0m\n",
      "\u001b[0;31mIndexError\u001b[0m: list index out of range"
     ]
    }
   ],
   "source": [
    "for x in sum_to_n(magFreq2[1], 2):\n",
    "    #add the result to a list\n",
    "    results.append(x)\n",
    "    #print(x)\n",
    "    break"
   ]
  },
  {
   "cell_type": "code",
   "execution_count": 36,
   "id": "d7fa6c76",
   "metadata": {},
   "outputs": [],
   "source": [
    "#testing\n",
    "import speech_recognition as sr\n",
    "from os import path\n",
    "import os.path\n",
    "import operator\n",
    "from os import system\n",
    "from os import listdir\n",
    "from os.path import isfile, join\n",
    "import wave\n",
    "import scipy as sc\n",
    "import scipy.io.wavfile\n",
    "import librosa\n",
    "import IPython.display as ipd\n",
    "import numpy as np\n",
    "from PIL import Image\n",
    "import matplotlib.pyplot as plt\n",
    "import matplotlib\n",
    "import numpy as np\n",
    "%matplotlib inline\n",
    "import math\n",
    "import librosa as lb\n",
    "import scipy\n",
    "from sklearn.decomposition import PCA\n",
    "import pandas as pd\n",
    "from os import listdir\n",
    "from os.path import isfile, join\n",
    "import time\n",
    "from itertools import product\n",
    "import datetime\n",
    "import sys"
   ]
  },
  {
   "cell_type": "code",
   "execution_count": 37,
   "id": "9247cc43",
   "metadata": {},
   "outputs": [
    {
     "name": "stdout",
     "output_type": "stream",
     "text": [
      "38432\n"
     ]
    }
   ],
   "source": [
    "fs, data = scipy.io.wavfile.read(\"/Users/sahajathota/Downloads/SEN1/PRO/MID/Code/helloAudio1.wav\")\n",
    "print(len(data))"
   ]
  },
  {
   "cell_type": "code",
   "execution_count": 38,
   "id": "a263f070",
   "metadata": {},
   "outputs": [
    {
     "name": "stdout",
     "output_type": "stream",
     "text": [
      "[(3+4j)]\n"
     ]
    }
   ],
   "source": [
    "h = [3+4j]\n",
    "print(h)"
   ]
  },
  {
   "cell_type": "code",
   "execution_count": 39,
   "id": "534295d9",
   "metadata": {},
   "outputs": [],
   "source": [
    "#Squares both the phase signals and adds them together\n",
    "def getMagnitude(a):\n",
    "    x = np.abs(a)\n",
    "    return x"
   ]
  },
  {
   "cell_type": "code",
   "execution_count": 40,
   "id": "acc07582",
   "metadata": {},
   "outputs": [
    {
     "name": "stdout",
     "output_type": "stream",
     "text": [
      "This is the magnitude of the signal:  [5.]\n",
      "\n",
      "This is the signal sum:  25.0 \n",
      "\n"
     ]
    }
   ],
   "source": [
    "print(\"This is the magnitude of the signal: \",getMagnitude(h))\n",
    "\n",
    "magnitudeNum = getMagnitude(h)\n",
    "\n",
    "signalSum = np.power(np.abs(3+4j), 2)\n",
    "\n",
    "print(\"\\nThis is the signal sum: \",signalSum, \"\\n\")\n",
    "\n"
   ]
  },
  {
   "cell_type": "code",
   "execution_count": 41,
   "id": "81475dab",
   "metadata": {},
   "outputs": [],
   "source": [
    "def sum_to_n(n, size, limit=None):\n",
    "    \"\"\"Produce all lists of `size` positive integers in decreasing order\n",
    "    that add up to `n`.\"\"\"\n",
    "    if size == 1:\n",
    "        yield [n]\n",
    "        #list.append([n])\n",
    "        return\n",
    "    if limit is None:\n",
    "        limit = n\n",
    "    start = (n + size - 1) // size\n",
    "    stop = np.abs(complex(min(limit, n - size + 1) + 1))\n",
    "    for i in np.arange(start, stop):\n",
    "        for tail in sum_to_n(n - i, size - 1, i):\n",
    "            yield np.sqrt([i] + tail)\n",
    "            #list.append(np.sqrt([i] + tail))"
   ]
  },
  {
   "cell_type": "code",
   "execution_count": 42,
   "id": "5d6f9224",
   "metadata": {},
   "outputs": [],
   "source": [
    "#Create a new empty list to store the answers\n",
    "listAns = []\n",
    "result = []"
   ]
  },
  {
   "cell_type": "code",
   "execution_count": 43,
   "id": "cef32efa",
   "metadata": {},
   "outputs": [
    {
     "name": "stdout",
     "output_type": "stream",
     "text": [
      "[3.60555128 3.46410162]\n",
      "[3.74165739 3.31662479]\n",
      "[3.87298335 3.16227766]\n",
      "[4. 3.]\n",
      "[4.12310563 2.82842712]\n",
      "[4.24264069 2.64575131]\n",
      "[4.35889894 2.44948974]\n",
      "[4.47213595 2.23606798]\n",
      "[4.58257569 2.        ]\n",
      "[4.69041576 1.73205081]\n",
      "[4.79583152 1.41421356]\n",
      "[4.89897949 1.        ]\n"
     ]
    }
   ],
   "source": [
    "for x in sum_to_n(signalSum, 2):\n",
    "    #add the result to a list\n",
    "    result.append(x)\n",
    "    print(x)\n",
    "    "
   ]
  },
  {
   "cell_type": "code",
   "execution_count": 44,
   "id": "c088ce5a",
   "metadata": {},
   "outputs": [
    {
     "data": {
      "text/plain": [
       "list"
      ]
     },
     "execution_count": 44,
     "metadata": {},
     "output_type": "execute_result"
    }
   ],
   "source": [
    "type(result)"
   ]
  },
  {
   "cell_type": "code",
   "execution_count": 45,
   "id": "45f1be00",
   "metadata": {},
   "outputs": [],
   "source": [
    "data = np.asarray(result)\n"
   ]
  },
  {
   "cell_type": "code",
   "execution_count": 46,
   "id": "16f0a8e8",
   "metadata": {},
   "outputs": [
    {
     "data": {
      "text/plain": [
       "array([[3.60555128, 3.46410162],\n",
       "       [3.74165739, 3.31662479],\n",
       "       [3.87298335, 3.16227766],\n",
       "       [4.        , 3.        ],\n",
       "       [4.12310563, 2.82842712],\n",
       "       [4.24264069, 2.64575131],\n",
       "       [4.35889894, 2.44948974],\n",
       "       [4.47213595, 2.23606798],\n",
       "       [4.58257569, 2.        ],\n",
       "       [4.69041576, 1.73205081],\n",
       "       [4.79583152, 1.41421356],\n",
       "       [4.89897949, 1.        ]])"
      ]
     },
     "execution_count": 46,
     "metadata": {},
     "output_type": "execute_result"
    }
   ],
   "source": [
    "data"
   ]
  },
  {
   "cell_type": "code",
   "execution_count": 47,
   "id": "503ed7c3",
   "metadata": {},
   "outputs": [],
   "source": [
    "for i in range(5):\n",
    "    for x in sum_to_n(signalSum, 2):\n",
    "        result.append(x)\n",
    "        break"
   ]
  },
  {
   "cell_type": "code",
   "execution_count": 48,
   "id": "87964194",
   "metadata": {},
   "outputs": [
    {
     "data": {
      "text/plain": [
       "[array([3.60555128, 3.46410162]),\n",
       " array([3.74165739, 3.31662479]),\n",
       " array([3.87298335, 3.16227766]),\n",
       " array([4., 3.]),\n",
       " array([4.12310563, 2.82842712]),\n",
       " array([4.24264069, 2.64575131]),\n",
       " array([4.35889894, 2.44948974]),\n",
       " array([4.47213595, 2.23606798]),\n",
       " array([4.58257569, 2.        ]),\n",
       " array([4.69041576, 1.73205081]),\n",
       " array([4.79583152, 1.41421356]),\n",
       " array([4.89897949, 1.        ]),\n",
       " array([3.60555128, 3.46410162]),\n",
       " array([3.60555128, 3.46410162]),\n",
       " array([3.60555128, 3.46410162]),\n",
       " array([3.60555128, 3.46410162]),\n",
       " array([3.60555128, 3.46410162])]"
      ]
     },
     "execution_count": 48,
     "metadata": {},
     "output_type": "execute_result"
    }
   ],
   "source": [
    "result"
   ]
  },
  {
   "cell_type": "code",
   "execution_count": 49,
   "id": "c237656c",
   "metadata": {},
   "outputs": [
    {
     "data": {
      "text/plain": [
       "25.0"
      ]
     },
     "execution_count": 49,
     "metadata": {},
     "output_type": "execute_result"
    }
   ],
   "source": [
    "signalSum"
   ]
  },
  {
   "cell_type": "code",
   "execution_count": 50,
   "id": "35539f26",
   "metadata": {},
   "outputs": [],
   "source": [
    "result.clear()"
   ]
  },
  {
   "cell_type": "code",
   "execution_count": null,
   "id": "db561543",
   "metadata": {},
   "outputs": [],
   "source": []
  }
 ],
 "metadata": {
  "kernelspec": {
   "display_name": "Python 3 (ipykernel)",
   "language": "python",
   "name": "python3"
  },
  "language_info": {
   "codemirror_mode": {
    "name": "ipython",
    "version": 3
   },
   "file_extension": ".py",
   "mimetype": "text/x-python",
   "name": "python",
   "nbconvert_exporter": "python",
   "pygments_lexer": "ipython3",
   "version": "3.9.13"
  }
 },
 "nbformat": 4,
 "nbformat_minor": 5
}
