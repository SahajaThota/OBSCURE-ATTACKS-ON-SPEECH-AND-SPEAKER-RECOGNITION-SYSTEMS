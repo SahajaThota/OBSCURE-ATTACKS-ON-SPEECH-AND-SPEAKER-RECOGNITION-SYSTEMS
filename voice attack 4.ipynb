{
 "cells": [
  {
   "cell_type": "code",
   "execution_count": 1,
   "id": "be211ffe",
   "metadata": {},
   "outputs": [],
   "source": [
    "import speech_recognition as sr\n",
    "from os import path\n",
    "import os.path\n",
    "import operator\n",
    "from os import system\n",
    "from os import listdir\n",
    "from os.path import isfile, join\n",
    "import wave\n",
    "import scipy as sc\n",
    "import scipy.io.wavfile\n",
    "import librosa\n",
    "import IPython.display as ipd\n",
    "import numpy as np\n",
    "from PIL import Image\n",
    "import matplotlib.pyplot as plt\n",
    "import matplotlib\n",
    "import numpy as np\n",
    "%matplotlib inline\n",
    "import math\n",
    "import librosa as lb\n",
    "import scipy\n",
    "from sklearn.decomposition import PCA\n",
    "import pandas as pd\n",
    "from os import listdir\n",
    "from os.path import isfile, join\n",
    "import time\n",
    "from itertools import product\n",
    "import datetime\n",
    "import sys\n",
    "import librosa.display\n",
    "import contextlib"
   ]
  },
  {
   "cell_type": "code",
   "execution_count": 2,
   "id": "2242af2a",
   "metadata": {},
   "outputs": [],
   "source": [
    "#Read in the amplitude of the audio file\n",
    "fs, data = scipy.io.wavfile.read(\"/Users/sahajathota/Downloads/SEN1/PRO/MID/Code/phva_demo.wav\")"
   ]
  },
  {
   "cell_type": "code",
   "execution_count": 3,
   "id": "8c8d8cc1",
   "metadata": {},
   "outputs": [],
   "source": [
    "def transcribe(my_path,model):\n",
    "    wit_key = ''\n",
    "\n",
    "    AUDIO_FILE =  path.join(my_path)\n",
    "\n",
    "    # use the audio file as the audio source\n",
    "    r = sr.Recognizer()\n",
    "    with sr.AudioFile(my_path) as source:\n",
    "        audio = r.record(source)  # read the entire audio file\n",
    "\n",
    "    if(model == 'google'):\n",
    "        # Google\n",
    "        try:\n",
    "            return r.recognize_google(audio)\n",
    "        except sr.UnknownValueError:\n",
    "             print(\"Google: -_-\")\n",
    "            \n",
    "        except sr.RequestError as e:\n",
    "            print(\"Google error; {0}\".format(e))\n",
    "    "
   ]
  },
  {
   "cell_type": "code",
   "execution_count": 4,
   "id": "4ae0454d",
   "metadata": {},
   "outputs": [
    {
     "name": "stdout",
     "output_type": "stream",
     "text": [
      "result2:\n",
      "{   'alternative': [   {   'confidence': 0.73751611,\n",
      "                           'transcript': 'call Mom Mom Mom'},\n",
      "                       {'transcript': 'call Mom call Mom'},\n",
      "                       {'transcript': 'mom mom mom'},\n",
      "                       {'transcript': 'call mom-mom'},\n",
      "                       {'transcript': 'call a mom mom mom'}],\n",
      "    'final': True}\n"
     ]
    },
    {
     "data": {
      "text/plain": [
       "'call Mom Mom Mom'"
      ]
     },
     "execution_count": 4,
     "metadata": {},
     "output_type": "execute_result"
    }
   ],
   "source": [
    "transcribe(\"//Users/sahajathota/Downloads/SEN1/PRO/MID/Code/phva_demo.wav\", \"google\")"
   ]
  },
  {
   "cell_type": "code",
   "execution_count": 5,
   "id": "9ef38d8e",
   "metadata": {},
   "outputs": [
    {
     "data": {
      "text/plain": [
       "3528640"
      ]
     },
     "execution_count": 5,
     "metadata": {},
     "output_type": "execute_result"
    }
   ],
   "source": [
    "len(data)"
   ]
  },
  {
   "cell_type": "code",
   "execution_count": 6,
   "id": "dd7f62ed",
   "metadata": {},
   "outputs": [],
   "source": [
    "zeros = [0] * 100000\n"
   ]
  },
  {
   "cell_type": "code",
   "execution_count": 7,
   "id": "71b5b9d8",
   "metadata": {},
   "outputs": [],
   "source": [
    "new = data"
   ]
  },
  {
   "cell_type": "code",
   "execution_count": 8,
   "id": "d1961b28",
   "metadata": {},
   "outputs": [],
   "source": [
    "new = np.append(data, zeros)\n",
    "new = np.asarray(new,dtype=np.int16)\n"
   ]
  },
  {
   "cell_type": "code",
   "execution_count": 9,
   "id": "7b3b125b",
   "metadata": {},
   "outputs": [],
   "source": [
    "scipy.io.wavfile.write(\"/Users/sahajathota/Downloads/SEN1/PRO/MID/Code/phva_demo.wav\", fs, new)\n"
   ]
  },
  {
   "cell_type": "code",
   "execution_count": 10,
   "id": "f514c83a",
   "metadata": {},
   "outputs": [],
   "source": [
    "def transcribe(my_path,model):\n",
    "    wit_key = ''\n",
    "\n",
    "    AUDIO_FILE =  path.join(my_path)\n",
    "\n",
    "    # use the audio file as the audio source\n",
    "    r = sr.Recognizer()\n",
    "    with sr.AudioFile(my_path) as source:\n",
    "        audio = r.record(source)  # read the entire audio file\n",
    "\n",
    "    if(model == 'google'):\n",
    "        # Google\n",
    "        try:\n",
    "            return r.recognize_google(audio)\n",
    "        except sr.UnknownValueError:\n",
    "             print(\"Google: -_-\")\n",
    "            \n",
    "        except sr.RequestError as e:\n",
    "            print(\"Google error; {0}\".format(e))\n",
    "    "
   ]
  },
  {
   "cell_type": "code",
   "execution_count": 11,
   "id": "365165a5",
   "metadata": {},
   "outputs": [
    {
     "name": "stdout",
     "output_type": "stream",
     "text": [
      "result2:\n",
      "[]\n",
      "Google: -_-\n"
     ]
    }
   ],
   "source": [
    "transcribe(\"/Users/sahajathota/Downloads/SEN1/PRO/MID/Code/phva_demo.wav\", \"google\")"
   ]
  },
  {
   "cell_type": "code",
   "execution_count": null,
   "id": "4c8dfea2",
   "metadata": {},
   "outputs": [],
   "source": []
  }
 ],
 "metadata": {
  "kernelspec": {
   "display_name": "Python 3 (ipykernel)",
   "language": "python",
   "name": "python3"
  },
  "language_info": {
   "codemirror_mode": {
    "name": "ipython",
    "version": 3
   },
   "file_extension": ".py",
   "mimetype": "text/x-python",
   "name": "python",
   "nbconvert_exporter": "python",
   "pygments_lexer": "ipython3",
   "version": "3.9.13"
  }
 },
 "nbformat": 4,
 "nbformat_minor": 5
}
